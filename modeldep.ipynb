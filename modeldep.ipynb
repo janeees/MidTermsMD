{
 "cells": [
  {
   "cell_type": "markdown",
   "metadata": {},
   "source": [
    "NIM GENAP 2602105632 PEREMPUAN - DATASET D"
   ]
  },
  {
   "cell_type": "code",
   "execution_count": 1,
   "metadata": {},
   "outputs": [
    {
     "name": "stdout",
     "output_type": "stream",
     "text": [
      "Collecting xgboost\n",
      "  Using cached xgboost-2.0.3-py3-none-win_amd64.whl (99.8 MB)\n",
      "Requirement already satisfied: numpy in c:\\users\\asus\\anaconda3\\lib\\site-packages (from xgboost) (1.22.4)\n",
      "Requirement already satisfied: scipy in c:\\users\\asus\\anaconda3\\lib\\site-packages (from xgboost) (1.7.3)\n",
      "Installing collected packages: xgboost\n",
      "Successfully installed xgboost-2.0.3\n",
      "Note: you may need to restart the kernel to use updated packages.\n"
     ]
    }
   ],
   "source": [
    "pip install xgboost"
   ]
  },
  {
   "cell_type": "code",
   "execution_count": 39,
   "metadata": {},
   "outputs": [
    {
     "name": "stdout",
     "output_type": "stream",
     "text": [
      "Collecting streamlit\n",
      "  Downloading streamlit-1.33.0-py2.py3-none-any.whl (8.1 MB)\n",
      "Collecting pyarrow>=7.0\n",
      "  Downloading pyarrow-16.0.0-cp39-cp39-win_amd64.whl (25.9 MB)\n",
      "Collecting typing-extensions<5,>=4.3.0\n",
      "  Downloading typing_extensions-4.11.0-py3-none-any.whl (34 kB)\n",
      "Collecting tenacity<9,>=8.1.0\n",
      "  Downloading tenacity-8.2.3-py3-none-any.whl (24 kB)\n",
      "Requirement already satisfied: pillow<11,>=7.1.0 in c:\\users\\asus\\anaconda3\\lib\\site-packages (from streamlit) (9.0.1)\n",
      "Requirement already satisfied: protobuf<5,>=3.20 in c:\\users\\asus\\anaconda3\\lib\\site-packages (from streamlit) (4.25.3)\n",
      "Collecting altair<6,>=4.0\n",
      "  Downloading altair-5.3.0-py3-none-any.whl (857 kB)\n",
      "Requirement already satisfied: rich<14,>=10.14.0 in c:\\users\\asus\\anaconda3\\lib\\site-packages (from streamlit) (13.7.1)\n",
      "Requirement already satisfied: watchdog>=2.1.5 in c:\\users\\asus\\anaconda3\\lib\\site-packages (from streamlit) (2.1.6)\n",
      "Requirement already satisfied: toml<2,>=0.10.1 in c:\\users\\asus\\anaconda3\\lib\\site-packages (from streamlit) (0.10.2)\n",
      "Requirement already satisfied: cachetools<6,>=4.0 in c:\\users\\asus\\anaconda3\\lib\\site-packages (from streamlit) (4.2.2)\n",
      "Requirement already satisfied: tornado<7,>=6.0.3 in c:\\users\\asus\\anaconda3\\lib\\site-packages (from streamlit) (6.1)\n",
      "Requirement already satisfied: numpy<2,>=1.19.3 in c:\\users\\asus\\anaconda3\\lib\\site-packages (from streamlit) (1.22.4)\n",
      "Collecting blinker<2,>=1.0.0\n",
      "  Downloading blinker-1.8.1-py3-none-any.whl (9.5 kB)\n",
      "Requirement already satisfied: click<9,>=7.0 in c:\\users\\asus\\anaconda3\\lib\\site-packages (from streamlit) (8.0.4)\n",
      "Requirement already satisfied: packaging<25,>=16.8 in c:\\users\\asus\\anaconda3\\lib\\site-packages (from streamlit) (21.3)\n",
      "Collecting gitpython!=3.1.19,<4,>=3.0.7\n",
      "  Downloading GitPython-3.1.43-py3-none-any.whl (207 kB)\n",
      "Requirement already satisfied: pandas<3,>=1.3.0 in c:\\users\\asus\\anaconda3\\lib\\site-packages (from streamlit) (1.4.2)\n",
      "Requirement already satisfied: requests<3,>=2.27 in c:\\users\\asus\\anaconda3\\lib\\site-packages (from streamlit) (2.27.1)\n",
      "Collecting pydeck<1,>=0.8.0b4\n",
      "  Downloading pydeck-0.9.0b1-py2.py3-none-any.whl (5.8 MB)\n",
      "Requirement already satisfied: jsonschema>=3.0 in c:\\users\\asus\\anaconda3\\lib\\site-packages (from altair<6,>=4.0->streamlit) (4.4.0)\n",
      "Requirement already satisfied: toolz in c:\\users\\asus\\anaconda3\\lib\\site-packages (from altair<6,>=4.0->streamlit) (0.11.2)\n",
      "Requirement already satisfied: jinja2 in c:\\users\\asus\\anaconda3\\lib\\site-packages (from altair<6,>=4.0->streamlit) (2.11.3)\n",
      "Requirement already satisfied: colorama in c:\\users\\asus\\anaconda3\\lib\\site-packages (from click<9,>=7.0->streamlit) (0.4.4)\n",
      "Collecting gitdb<5,>=4.0.1\n",
      "  Downloading gitdb-4.0.11-py3-none-any.whl (62 kB)\n",
      "Collecting smmap<6,>=3.0.1\n",
      "  Downloading smmap-5.0.1-py3-none-any.whl (24 kB)\n",
      "Requirement already satisfied: attrs>=17.4.0 in c:\\users\\asus\\anaconda3\\lib\\site-packages (from jsonschema>=3.0->altair<6,>=4.0->streamlit) (21.4.0)\n",
      "Requirement already satisfied: pyrsistent!=0.17.0,!=0.17.1,!=0.17.2,>=0.14.0 in c:\\users\\asus\\anaconda3\\lib\\site-packages (from jsonschema>=3.0->altair<6,>=4.0->streamlit) (0.18.0)\n",
      "Requirement already satisfied: pyparsing!=3.0.5,>=2.0.2 in c:\\users\\asus\\anaconda3\\lib\\site-packages (from packaging<25,>=16.8->streamlit) (3.0.4)\n",
      "Requirement already satisfied: python-dateutil>=2.8.1 in c:\\users\\asus\\anaconda3\\lib\\site-packages (from pandas<3,>=1.3.0->streamlit) (2.8.2)\n",
      "Requirement already satisfied: pytz>=2020.1 in c:\\users\\asus\\anaconda3\\lib\\site-packages (from pandas<3,>=1.3.0->streamlit) (2021.3)\n",
      "Requirement already satisfied: MarkupSafe>=0.23 in c:\\users\\asus\\anaconda3\\lib\\site-packages (from jinja2->altair<6,>=4.0->streamlit) (2.0.1)\n",
      "Requirement already satisfied: six>=1.5 in c:\\users\\asus\\anaconda3\\lib\\site-packages (from python-dateutil>=2.8.1->pandas<3,>=1.3.0->streamlit) (1.16.0)\n",
      "Requirement already satisfied: urllib3<1.27,>=1.21.1 in c:\\users\\asus\\anaconda3\\lib\\site-packages (from requests<3,>=2.27->streamlit) (1.26.9)\n",
      "Requirement already satisfied: idna<4,>=2.5 in c:\\users\\asus\\anaconda3\\lib\\site-packages (from requests<3,>=2.27->streamlit) (3.3)\n",
      "Requirement already satisfied: charset-normalizer~=2.0.0 in c:\\users\\asus\\anaconda3\\lib\\site-packages (from requests<3,>=2.27->streamlit) (2.0.4)\n",
      "Requirement already satisfied: certifi>=2017.4.17 in c:\\users\\asus\\anaconda3\\lib\\site-packages (from requests<3,>=2.27->streamlit) (2021.10.8)\n",
      "Requirement already satisfied: pygments<3.0.0,>=2.13.0 in c:\\users\\asus\\anaconda3\\lib\\site-packages (from rich<14,>=10.14.0->streamlit) (2.17.2)\n",
      "Requirement already satisfied: markdown-it-py>=2.2.0 in c:\\users\\asus\\anaconda3\\lib\\site-packages (from rich<14,>=10.14.0->streamlit) (3.0.0)\n",
      "Requirement already satisfied: mdurl~=0.1 in c:\\users\\asus\\anaconda3\\lib\\site-packages (from markdown-it-py>=2.2.0->rich<14,>=10.14.0->streamlit) (0.1.2)\n",
      "Installing collected packages: smmap, typing-extensions, gitdb, tenacity, pydeck, pyarrow, gitpython, blinker, altair, streamlit\n",
      "  Attempting uninstall: typing-extensions\n",
      "    Found existing installation: typing-extensions 4.1.1\n",
      "    Uninstalling typing-extensions-4.1.1:\n",
      "      Successfully uninstalled typing-extensions-4.1.1\n",
      "  Attempting uninstall: tenacity\n",
      "    Found existing installation: tenacity 8.0.1\n",
      "    Uninstalling tenacity-8.0.1:\n",
      "      Successfully uninstalled tenacity-8.0.1\n",
      "Successfully installed altair-5.3.0 blinker-1.8.1 gitdb-4.0.11 gitpython-3.1.43 pyarrow-16.0.0 pydeck-0.9.0b1 smmap-5.0.1 streamlit-1.33.0 tenacity-8.2.3 typing-extensions-4.11.0\n",
      "Note: you may need to restart the kernel to use updated packages.\n"
     ]
    },
    {
     "name": "stderr",
     "output_type": "stream",
     "text": [
      "ERROR: pip's dependency resolver does not currently take into account all the packages that are installed. This behaviour is the source of the following dependency conflicts.\n",
      "tensorflow-intel 2.16.1 requires numpy<2.0.0,>=1.23.5; python_version <= \"3.11\", but you have numpy 1.22.4 which is incompatible.\n"
     ]
    }
   ],
   "source": [
    "pip install streamlit"
   ]
  },
  {
   "cell_type": "code",
   "execution_count": 45,
   "metadata": {},
   "outputs": [],
   "source": [
    "import pandas as pd\n",
    "import numpy as np\n",
    "import pickle as pkl\n",
    "import matplotlib.pyplot as plt\n",
    "import seaborn as sn\n",
    "\n",
    "import streamlit as plt\n",
    "\n",
    "from sklearn.model_selection import train_test_split\n",
    "\n",
    "from xgboost import XGBClassifier\n",
    "\n",
    "from sklearn import metrics\n",
    "from sklearn.preprocessing import OneHotEncoder, LabelEncoder\n",
    "from sklearn.ensemble import RandomForestClassifier\n",
    "from sklearn.tree import DecisionTreeClassifier\n",
    "from sklearn.impute import SimpleImputer\n",
    "from sklearn.preprocessing import OneHotEncoder\n",
    "from sklearn.metrics import accuracy_score, recall_score, precision_score, f1_score, roc_auc_score, log_loss, classification_report, confusion_matrix"
   ]
  },
  {
   "cell_type": "code",
   "execution_count": 3,
   "metadata": {},
   "outputs": [
    {
     "data": {
      "text/html": [
       "<div>\n",
       "<style scoped>\n",
       "    .dataframe tbody tr th:only-of-type {\n",
       "        vertical-align: middle;\n",
       "    }\n",
       "\n",
       "    .dataframe tbody tr th {\n",
       "        vertical-align: top;\n",
       "    }\n",
       "\n",
       "    .dataframe thead th {\n",
       "        text-align: right;\n",
       "    }\n",
       "</style>\n",
       "<table border=\"1\" class=\"dataframe\">\n",
       "  <thead>\n",
       "    <tr style=\"text-align: right;\">\n",
       "      <th></th>\n",
       "      <th>Unnamed: 0</th>\n",
       "      <th>id</th>\n",
       "      <th>CustomerId</th>\n",
       "      <th>Surname</th>\n",
       "      <th>CreditScore</th>\n",
       "      <th>Geography</th>\n",
       "      <th>Gender</th>\n",
       "      <th>Age</th>\n",
       "      <th>Tenure</th>\n",
       "      <th>Balance</th>\n",
       "      <th>NumOfProducts</th>\n",
       "      <th>HasCrCard</th>\n",
       "      <th>IsActiveMember</th>\n",
       "      <th>EstimatedSalary</th>\n",
       "      <th>churn</th>\n",
       "    </tr>\n",
       "  </thead>\n",
       "  <tbody>\n",
       "    <tr>\n",
       "      <th>0</th>\n",
       "      <td>0</td>\n",
       "      <td>106473</td>\n",
       "      <td>15639576</td>\n",
       "      <td>Sarratt</td>\n",
       "      <td>652.0</td>\n",
       "      <td>France</td>\n",
       "      <td>Female</td>\n",
       "      <td>65.0</td>\n",
       "      <td>3</td>\n",
       "      <td>0.00</td>\n",
       "      <td>2</td>\n",
       "      <td>1</td>\n",
       "      <td>1</td>\n",
       "      <td>136592.24</td>\n",
       "      <td>0</td>\n",
       "    </tr>\n",
       "    <tr>\n",
       "      <th>1</th>\n",
       "      <td>1</td>\n",
       "      <td>62345</td>\n",
       "      <td>15769582</td>\n",
       "      <td>Hanson</td>\n",
       "      <td>464.0</td>\n",
       "      <td>France</td>\n",
       "      <td>Male</td>\n",
       "      <td>35.0</td>\n",
       "      <td>4</td>\n",
       "      <td>0.00</td>\n",
       "      <td>1</td>\n",
       "      <td>0</td>\n",
       "      <td>0</td>\n",
       "      <td>99505.75</td>\n",
       "      <td>1</td>\n",
       "    </tr>\n",
       "    <tr>\n",
       "      <th>2</th>\n",
       "      <td>2</td>\n",
       "      <td>126615</td>\n",
       "      <td>15675888</td>\n",
       "      <td>Austin</td>\n",
       "      <td>620.0</td>\n",
       "      <td>Germany</td>\n",
       "      <td>Female</td>\n",
       "      <td>39.0</td>\n",
       "      <td>6</td>\n",
       "      <td>129401.87</td>\n",
       "      <td>2</td>\n",
       "      <td>1</td>\n",
       "      <td>1</td>\n",
       "      <td>102681.32</td>\n",
       "      <td>1</td>\n",
       "    </tr>\n",
       "    <tr>\n",
       "      <th>3</th>\n",
       "      <td>3</td>\n",
       "      <td>35909</td>\n",
       "      <td>15786617</td>\n",
       "      <td>Tuan</td>\n",
       "      <td>598.0</td>\n",
       "      <td>France</td>\n",
       "      <td>Female</td>\n",
       "      <td>30.0</td>\n",
       "      <td>7</td>\n",
       "      <td>0.00</td>\n",
       "      <td>2</td>\n",
       "      <td>1</td>\n",
       "      <td>0</td>\n",
       "      <td>141210.18</td>\n",
       "      <td>0</td>\n",
       "    </tr>\n",
       "    <tr>\n",
       "      <th>4</th>\n",
       "      <td>4</td>\n",
       "      <td>45175</td>\n",
       "      <td>15757310</td>\n",
       "      <td>Li Fonti</td>\n",
       "      <td>682.0</td>\n",
       "      <td>Germany</td>\n",
       "      <td>Female</td>\n",
       "      <td>46.0</td>\n",
       "      <td>4</td>\n",
       "      <td>107720.57</td>\n",
       "      <td>1</td>\n",
       "      <td>0</td>\n",
       "      <td>0</td>\n",
       "      <td>93832.33</td>\n",
       "      <td>1</td>\n",
       "    </tr>\n",
       "  </tbody>\n",
       "</table>\n",
       "</div>"
      ],
      "text/plain": [
       "   Unnamed: 0      id  CustomerId   Surname  CreditScore Geography  Gender  \\\n",
       "0           0  106473    15639576   Sarratt        652.0    France  Female   \n",
       "1           1   62345    15769582    Hanson        464.0    France    Male   \n",
       "2           2  126615    15675888    Austin        620.0   Germany  Female   \n",
       "3           3   35909    15786617      Tuan        598.0    France  Female   \n",
       "4           4   45175    15757310  Li Fonti        682.0   Germany  Female   \n",
       "\n",
       "    Age  Tenure    Balance  NumOfProducts  HasCrCard  IsActiveMember  \\\n",
       "0  65.0       3       0.00              2          1               1   \n",
       "1  35.0       4       0.00              1          0               0   \n",
       "2  39.0       6  129401.87              2          1               1   \n",
       "3  30.0       7       0.00              2          1               0   \n",
       "4  46.0       4  107720.57              1          0               0   \n",
       "\n",
       "   EstimatedSalary  churn  \n",
       "0        136592.24      0  \n",
       "1         99505.75      1  \n",
       "2        102681.32      1  \n",
       "3        141210.18      0  \n",
       "4         93832.33      1  "
      ]
     },
     "execution_count": 3,
     "metadata": {},
     "output_type": "execute_result"
    }
   ],
   "source": [
    "df = pd.read_csv(\"C:\\jane\\MDMT\\data_D.csv\")\n",
    "df.head()"
   ]
  },
  {
   "cell_type": "code",
   "execution_count": 4,
   "metadata": {},
   "outputs": [
    {
     "data": {
      "text/html": [
       "<div>\n",
       "<style scoped>\n",
       "    .dataframe tbody tr th:only-of-type {\n",
       "        vertical-align: middle;\n",
       "    }\n",
       "\n",
       "    .dataframe tbody tr th {\n",
       "        vertical-align: top;\n",
       "    }\n",
       "\n",
       "    .dataframe thead th {\n",
       "        text-align: right;\n",
       "    }\n",
       "</style>\n",
       "<table border=\"1\" class=\"dataframe\">\n",
       "  <thead>\n",
       "    <tr style=\"text-align: right;\">\n",
       "      <th></th>\n",
       "      <th>Unnamed: 0</th>\n",
       "      <th>id</th>\n",
       "      <th>CustomerId</th>\n",
       "      <th>Surname</th>\n",
       "      <th>CreditScore</th>\n",
       "      <th>Geography</th>\n",
       "      <th>Gender</th>\n",
       "      <th>Age</th>\n",
       "      <th>Tenure</th>\n",
       "      <th>Balance</th>\n",
       "      <th>NumOfProducts</th>\n",
       "      <th>HasCrCard</th>\n",
       "      <th>IsActiveMember</th>\n",
       "      <th>EstimatedSalary</th>\n",
       "      <th>churn</th>\n",
       "    </tr>\n",
       "  </thead>\n",
       "  <tbody>\n",
       "    <tr>\n",
       "      <th>41254</th>\n",
       "      <td>41254</td>\n",
       "      <td>105680</td>\n",
       "      <td>15671769</td>\n",
       "      <td>Nkemdirim</td>\n",
       "      <td>567.0</td>\n",
       "      <td>France</td>\n",
       "      <td>Female</td>\n",
       "      <td>37.0</td>\n",
       "      <td>1</td>\n",
       "      <td>121801.49</td>\n",
       "      <td>1</td>\n",
       "      <td>0</td>\n",
       "      <td>0</td>\n",
       "      <td>177028.00</td>\n",
       "      <td>0</td>\n",
       "    </tr>\n",
       "    <tr>\n",
       "      <th>41255</th>\n",
       "      <td>41255</td>\n",
       "      <td>70760</td>\n",
       "      <td>15570299</td>\n",
       "      <td>Martin</td>\n",
       "      <td>584.0</td>\n",
       "      <td>Germany</td>\n",
       "      <td>Female</td>\n",
       "      <td>31.0</td>\n",
       "      <td>4</td>\n",
       "      <td>152622.34</td>\n",
       "      <td>1</td>\n",
       "      <td>1</td>\n",
       "      <td>0</td>\n",
       "      <td>99298.80</td>\n",
       "      <td>0</td>\n",
       "    </tr>\n",
       "    <tr>\n",
       "      <th>41256</th>\n",
       "      <td>41256</td>\n",
       "      <td>3091</td>\n",
       "      <td>15807593</td>\n",
       "      <td>Tseng</td>\n",
       "      <td>684.0</td>\n",
       "      <td>France</td>\n",
       "      <td>Male</td>\n",
       "      <td>36.0</td>\n",
       "      <td>4</td>\n",
       "      <td>0.00</td>\n",
       "      <td>1</td>\n",
       "      <td>1</td>\n",
       "      <td>0</td>\n",
       "      <td>152992.04</td>\n",
       "      <td>0</td>\n",
       "    </tr>\n",
       "    <tr>\n",
       "      <th>41257</th>\n",
       "      <td>41257</td>\n",
       "      <td>20130</td>\n",
       "      <td>15583460</td>\n",
       "      <td>Nwankwo</td>\n",
       "      <td>709.0</td>\n",
       "      <td>France</td>\n",
       "      <td>Male</td>\n",
       "      <td>38.0</td>\n",
       "      <td>3</td>\n",
       "      <td>0.00</td>\n",
       "      <td>2</td>\n",
       "      <td>1</td>\n",
       "      <td>1</td>\n",
       "      <td>185580.23</td>\n",
       "      <td>0</td>\n",
       "    </tr>\n",
       "    <tr>\n",
       "      <th>41258</th>\n",
       "      <td>41258</td>\n",
       "      <td>161328</td>\n",
       "      <td>15681655</td>\n",
       "      <td>Hs?</td>\n",
       "      <td>850.0</td>\n",
       "      <td>France</td>\n",
       "      <td>Male</td>\n",
       "      <td>43.0</td>\n",
       "      <td>2</td>\n",
       "      <td>0.00</td>\n",
       "      <td>2</td>\n",
       "      <td>1</td>\n",
       "      <td>1</td>\n",
       "      <td>93882.93</td>\n",
       "      <td>0</td>\n",
       "    </tr>\n",
       "  </tbody>\n",
       "</table>\n",
       "</div>"
      ],
      "text/plain": [
       "       Unnamed: 0      id  CustomerId    Surname  CreditScore Geography  \\\n",
       "41254       41254  105680    15671769  Nkemdirim        567.0    France   \n",
       "41255       41255   70760    15570299     Martin        584.0   Germany   \n",
       "41256       41256    3091    15807593      Tseng        684.0    France   \n",
       "41257       41257   20130    15583460    Nwankwo        709.0    France   \n",
       "41258       41258  161328    15681655        Hs?        850.0    France   \n",
       "\n",
       "       Gender   Age  Tenure    Balance  NumOfProducts  HasCrCard  \\\n",
       "41254  Female  37.0       1  121801.49              1          0   \n",
       "41255  Female  31.0       4  152622.34              1          1   \n",
       "41256    Male  36.0       4       0.00              1          1   \n",
       "41257    Male  38.0       3       0.00              2          1   \n",
       "41258    Male  43.0       2       0.00              2          1   \n",
       "\n",
       "       IsActiveMember  EstimatedSalary  churn  \n",
       "41254               0        177028.00      0  \n",
       "41255               0         99298.80      0  \n",
       "41256               0        152992.04      0  \n",
       "41257               1        185580.23      0  \n",
       "41258               1         93882.93      0  "
      ]
     },
     "execution_count": 4,
     "metadata": {},
     "output_type": "execute_result"
    }
   ],
   "source": [
    "df.tail()"
   ]
  },
  {
   "cell_type": "code",
   "execution_count": 5,
   "metadata": {},
   "outputs": [
    {
     "data": {
      "text/plain": [
       "(41259, 15)"
      ]
     },
     "execution_count": 5,
     "metadata": {},
     "output_type": "execute_result"
    }
   ],
   "source": [
    "df.shape"
   ]
  },
  {
   "cell_type": "code",
   "execution_count": 6,
   "metadata": {},
   "outputs": [
    {
     "name": "stdout",
     "output_type": "stream",
     "text": [
      "<class 'pandas.core.frame.DataFrame'>\n",
      "RangeIndex: 41259 entries, 0 to 41258\n",
      "Data columns (total 15 columns):\n",
      " #   Column           Non-Null Count  Dtype  \n",
      "---  ------           --------------  -----  \n",
      " 0   Unnamed: 0       41259 non-null  int64  \n",
      " 1   id               41259 non-null  int64  \n",
      " 2   CustomerId       41259 non-null  int64  \n",
      " 3   Surname          41259 non-null  object \n",
      " 4   CreditScore      41251 non-null  float64\n",
      " 5   Geography        41259 non-null  object \n",
      " 6   Gender           41259 non-null  object \n",
      " 7   Age              41259 non-null  float64\n",
      " 8   Tenure           41259 non-null  int64  \n",
      " 9   Balance          41259 non-null  float64\n",
      " 10  NumOfProducts    41259 non-null  int64  \n",
      " 11  HasCrCard        41259 non-null  int64  \n",
      " 12  IsActiveMember   41259 non-null  int64  \n",
      " 13  EstimatedSalary  41259 non-null  float64\n",
      " 14  churn            41259 non-null  int64  \n",
      "dtypes: float64(4), int64(8), object(3)\n",
      "memory usage: 4.7+ MB\n"
     ]
    }
   ],
   "source": [
    "df.info()"
   ]
  },
  {
   "cell_type": "code",
   "execution_count": 7,
   "metadata": {},
   "outputs": [
    {
     "data": {
      "text/html": [
       "<div>\n",
       "<style scoped>\n",
       "    .dataframe tbody tr th:only-of-type {\n",
       "        vertical-align: middle;\n",
       "    }\n",
       "\n",
       "    .dataframe tbody tr th {\n",
       "        vertical-align: top;\n",
       "    }\n",
       "\n",
       "    .dataframe thead th {\n",
       "        text-align: right;\n",
       "    }\n",
       "</style>\n",
       "<table border=\"1\" class=\"dataframe\">\n",
       "  <thead>\n",
       "    <tr style=\"text-align: right;\">\n",
       "      <th></th>\n",
       "      <th>Unnamed: 0</th>\n",
       "      <th>id</th>\n",
       "      <th>CustomerId</th>\n",
       "      <th>CreditScore</th>\n",
       "      <th>Age</th>\n",
       "      <th>Tenure</th>\n",
       "      <th>Balance</th>\n",
       "      <th>NumOfProducts</th>\n",
       "      <th>HasCrCard</th>\n",
       "      <th>IsActiveMember</th>\n",
       "      <th>EstimatedSalary</th>\n",
       "      <th>churn</th>\n",
       "    </tr>\n",
       "  </thead>\n",
       "  <tbody>\n",
       "    <tr>\n",
       "      <th>count</th>\n",
       "      <td>41259.000000</td>\n",
       "      <td>41259.000000</td>\n",
       "      <td>4.125900e+04</td>\n",
       "      <td>41251.000000</td>\n",
       "      <td>41259.000000</td>\n",
       "      <td>41259.000000</td>\n",
       "      <td>41259.000000</td>\n",
       "      <td>41259.000000</td>\n",
       "      <td>41259.000000</td>\n",
       "      <td>41259.000000</td>\n",
       "      <td>41259.000000</td>\n",
       "      <td>41259.000000</td>\n",
       "    </tr>\n",
       "    <tr>\n",
       "      <th>mean</th>\n",
       "      <td>20629.000000</td>\n",
       "      <td>82171.693231</td>\n",
       "      <td>1.569221e+07</td>\n",
       "      <td>656.278733</td>\n",
       "      <td>38.060254</td>\n",
       "      <td>4.999127</td>\n",
       "      <td>55712.496615</td>\n",
       "      <td>1.554328</td>\n",
       "      <td>0.754405</td>\n",
       "      <td>0.496667</td>\n",
       "      <td>112308.502138</td>\n",
       "      <td>0.211324</td>\n",
       "    </tr>\n",
       "    <tr>\n",
       "      <th>std</th>\n",
       "      <td>11910.591715</td>\n",
       "      <td>47498.739183</td>\n",
       "      <td>7.137974e+04</td>\n",
       "      <td>80.062353</td>\n",
       "      <td>8.801094</td>\n",
       "      <td>2.802930</td>\n",
       "      <td>62858.019091</td>\n",
       "      <td>0.545629</td>\n",
       "      <td>0.430445</td>\n",
       "      <td>0.499995</td>\n",
       "      <td>50367.874510</td>\n",
       "      <td>0.408252</td>\n",
       "    </tr>\n",
       "    <tr>\n",
       "      <th>min</th>\n",
       "      <td>0.000000</td>\n",
       "      <td>3.000000</td>\n",
       "      <td>1.556570e+07</td>\n",
       "      <td>350.000000</td>\n",
       "      <td>18.000000</td>\n",
       "      <td>0.000000</td>\n",
       "      <td>0.000000</td>\n",
       "      <td>1.000000</td>\n",
       "      <td>0.000000</td>\n",
       "      <td>0.000000</td>\n",
       "      <td>11.580000</td>\n",
       "      <td>0.000000</td>\n",
       "    </tr>\n",
       "    <tr>\n",
       "      <th>25%</th>\n",
       "      <td>10314.500000</td>\n",
       "      <td>41098.500000</td>\n",
       "      <td>1.563347e+07</td>\n",
       "      <td>598.000000</td>\n",
       "      <td>32.000000</td>\n",
       "      <td>3.000000</td>\n",
       "      <td>0.000000</td>\n",
       "      <td>1.000000</td>\n",
       "      <td>1.000000</td>\n",
       "      <td>0.000000</td>\n",
       "      <td>74580.800000</td>\n",
       "      <td>0.000000</td>\n",
       "    </tr>\n",
       "    <tr>\n",
       "      <th>50%</th>\n",
       "      <td>20629.000000</td>\n",
       "      <td>81851.000000</td>\n",
       "      <td>1.569013e+07</td>\n",
       "      <td>659.000000</td>\n",
       "      <td>37.000000</td>\n",
       "      <td>5.000000</td>\n",
       "      <td>0.000000</td>\n",
       "      <td>2.000000</td>\n",
       "      <td>1.000000</td>\n",
       "      <td>0.000000</td>\n",
       "      <td>117036.380000</td>\n",
       "      <td>0.000000</td>\n",
       "    </tr>\n",
       "    <tr>\n",
       "      <th>75%</th>\n",
       "      <td>30943.500000</td>\n",
       "      <td>123064.500000</td>\n",
       "      <td>1.575714e+07</td>\n",
       "      <td>710.000000</td>\n",
       "      <td>42.000000</td>\n",
       "      <td>7.000000</td>\n",
       "      <td>120165.300000</td>\n",
       "      <td>2.000000</td>\n",
       "      <td>1.000000</td>\n",
       "      <td>1.000000</td>\n",
       "      <td>154811.290000</td>\n",
       "      <td>0.000000</td>\n",
       "    </tr>\n",
       "    <tr>\n",
       "      <th>max</th>\n",
       "      <td>41258.000000</td>\n",
       "      <td>165033.000000</td>\n",
       "      <td>1.581569e+07</td>\n",
       "      <td>850.000000</td>\n",
       "      <td>92.000000</td>\n",
       "      <td>10.000000</td>\n",
       "      <td>250898.090000</td>\n",
       "      <td>4.000000</td>\n",
       "      <td>1.000000</td>\n",
       "      <td>1.000000</td>\n",
       "      <td>199992.480000</td>\n",
       "      <td>1.000000</td>\n",
       "    </tr>\n",
       "  </tbody>\n",
       "</table>\n",
       "</div>"
      ],
      "text/plain": [
       "         Unnamed: 0             id    CustomerId   CreditScore           Age  \\\n",
       "count  41259.000000   41259.000000  4.125900e+04  41251.000000  41259.000000   \n",
       "mean   20629.000000   82171.693231  1.569221e+07    656.278733     38.060254   \n",
       "std    11910.591715   47498.739183  7.137974e+04     80.062353      8.801094   \n",
       "min        0.000000       3.000000  1.556570e+07    350.000000     18.000000   \n",
       "25%    10314.500000   41098.500000  1.563347e+07    598.000000     32.000000   \n",
       "50%    20629.000000   81851.000000  1.569013e+07    659.000000     37.000000   \n",
       "75%    30943.500000  123064.500000  1.575714e+07    710.000000     42.000000   \n",
       "max    41258.000000  165033.000000  1.581569e+07    850.000000     92.000000   \n",
       "\n",
       "             Tenure        Balance  NumOfProducts     HasCrCard  \\\n",
       "count  41259.000000   41259.000000   41259.000000  41259.000000   \n",
       "mean       4.999127   55712.496615       1.554328      0.754405   \n",
       "std        2.802930   62858.019091       0.545629      0.430445   \n",
       "min        0.000000       0.000000       1.000000      0.000000   \n",
       "25%        3.000000       0.000000       1.000000      1.000000   \n",
       "50%        5.000000       0.000000       2.000000      1.000000   \n",
       "75%        7.000000  120165.300000       2.000000      1.000000   \n",
       "max       10.000000  250898.090000       4.000000      1.000000   \n",
       "\n",
       "       IsActiveMember  EstimatedSalary         churn  \n",
       "count    41259.000000     41259.000000  41259.000000  \n",
       "mean         0.496667    112308.502138      0.211324  \n",
       "std          0.499995     50367.874510      0.408252  \n",
       "min          0.000000        11.580000      0.000000  \n",
       "25%          0.000000     74580.800000      0.000000  \n",
       "50%          0.000000    117036.380000      0.000000  \n",
       "75%          1.000000    154811.290000      0.000000  \n",
       "max          1.000000    199992.480000      1.000000  "
      ]
     },
     "execution_count": 7,
     "metadata": {},
     "output_type": "execute_result"
    }
   ],
   "source": [
    "df.describe()"
   ]
  },
  {
   "cell_type": "code",
   "execution_count": 8,
   "metadata": {},
   "outputs": [
    {
     "data": {
      "text/plain": [
       "Index(['Unnamed: 0', 'id', 'CustomerId', 'Surname', 'CreditScore', 'Geography',\n",
       "       'Gender', 'Age', 'Tenure', 'Balance', 'NumOfProducts', 'HasCrCard',\n",
       "       'IsActiveMember', 'EstimatedSalary', 'churn'],\n",
       "      dtype='object')"
      ]
     },
     "execution_count": 8,
     "metadata": {},
     "output_type": "execute_result"
    }
   ],
   "source": [
    "df.columns"
   ]
  },
  {
   "cell_type": "code",
   "execution_count": 9,
   "metadata": {},
   "outputs": [
    {
     "data": {
      "text/plain": [
       "Unnamed: 0         0\n",
       "id                 0\n",
       "CustomerId         0\n",
       "Surname            0\n",
       "CreditScore        8\n",
       "Geography          0\n",
       "Gender             0\n",
       "Age                0\n",
       "Tenure             0\n",
       "Balance            0\n",
       "NumOfProducts      0\n",
       "HasCrCard          0\n",
       "IsActiveMember     0\n",
       "EstimatedSalary    0\n",
       "churn              0\n",
       "dtype: int64"
      ]
     },
     "execution_count": 9,
     "metadata": {},
     "output_type": "execute_result"
    }
   ],
   "source": [
    "df.isna().sum()"
   ]
  },
  {
   "cell_type": "code",
   "execution_count": 10,
   "metadata": {},
   "outputs": [],
   "source": [
    "missing_cols = df.columns[df.isnull().any()].tolist()"
   ]
  },
  {
   "cell_type": "code",
   "execution_count": 11,
   "metadata": {},
   "outputs": [
    {
     "data": {
      "text/plain": [
       "Unnamed: 0  id      CustomerId  Surname   CreditScore  Geography  Gender  Age   Tenure  Balance    NumOfProducts  HasCrCard  IsActiveMember  EstimatedSalary  churn\n",
       "0           106473  15639576    Sarratt   652.0        France     Female  65.0  3       0.00       2              1          1               136592.24        0        1\n",
       "27479       24254   15591698    H?        579.0        France     Female  25.0  5       0.00       2              1          0               131097.90        0        1\n",
       "27501       17354   15751208    Yobachi   678.0        France     Male    33.0  2       0.00       2              1          0               60905.51         0        1\n",
       "27502       5659    15600575    Lucchesi  543.0        France     Female  38.0  3       0.00       2              1          1               142822.37        0        1\n",
       "27503       4072    15658057    Hsing     586.0        Spain      Female  42.0  9       0.00       1              1          0               93881.75         1        1\n",
       "                                                                                                                                                                      ..\n",
       "13755       27585   15728505    L?        601.0        Germany    Male    44.0  4       124601.58  1              1          1               62678.53         0        1\n",
       "13756       118009  15641359    Ch'ang    727.0        Germany    Female  51.0  8       88963.31   2              1          0               96670.20         1        1\n",
       "13757       5184    15761168    Manna     478.0        France     Female  38.0  4       171913.87  1              1          1               51820.87         0        1\n",
       "13758       128043  15689328    Nwankwo   726.0        Germany    Male    29.0  2       137849.70  2              1          1               152643.17        0        1\n",
       "41258       161328  15681655    Hs?       850.0        France     Male    43.0  2       0.00       2              1          1               93882.93         0        1\n",
       "Length: 41251, dtype: int64"
      ]
     },
     "execution_count": 11,
     "metadata": {},
     "output_type": "execute_result"
    }
   ],
   "source": [
    "# value count\n",
    "\n",
    "df.value_counts()"
   ]
  },
  {
   "cell_type": "code",
   "execution_count": 12,
   "metadata": {},
   "outputs": [],
   "source": [
    "# Handle missing value\n",
    "\n",
    "df = df.drop(columns=['Unnamed: 0', 'id', 'CustomerId', 'Surname'])"
   ]
  },
  {
   "cell_type": "code",
   "execution_count": 13,
   "metadata": {},
   "outputs": [],
   "source": [
    "df = df.dropna()"
   ]
  },
  {
   "cell_type": "markdown",
   "metadata": {},
   "source": [
    "Encoding"
   ]
  },
  {
   "cell_type": "code",
   "execution_count": 14,
   "metadata": {},
   "outputs": [],
   "source": [
    "# Encode categorical variables\n",
    "label_encoder = LabelEncoder()\n",
    "categoric_cols = ['Geography', 'Gender']\n",
    "for col in categoric_cols:\n",
    "    df[col] = label_encoder.fit_transform(df[col])"
   ]
  },
  {
   "cell_type": "markdown",
   "metadata": {},
   "source": [
    "Split Data : Train and Test"
   ]
  },
  {
   "cell_type": "code",
   "execution_count": 21,
   "metadata": {},
   "outputs": [
    {
     "name": "stdout",
     "output_type": "stream",
     "text": [
      "X_train shape: (33000, 10)\n",
      "y_train shape: (33000,)\n",
      "X_test shape: (8251, 10)\n",
      "y_test shape: (8251,)\n"
     ]
    }
   ],
   "source": [
    "X = df.drop(columns = ['churn'])\n",
    "y = df['churn']\n",
    "\n",
    "X_train, X_test, y_train, y_test = train_test_split(X, y, test_size=0.2, random_state=42)\n",
    "\n",
    "print(\"X_train shape:\", X_train.shape)\n",
    "print(\"y_train shape:\", y_train.shape)\n",
    "print(\"X_test shape:\", X_test.shape)\n",
    "print(\"y_test shape:\", y_test.shape)"
   ]
  },
  {
   "cell_type": "markdown",
   "metadata": {},
   "source": [
    "Model Training"
   ]
  },
  {
   "cell_type": "code",
   "execution_count": 22,
   "metadata": {},
   "outputs": [
    {
     "data": {
      "text/plain": [
       "RandomForestClassifier()"
      ]
     },
     "execution_count": 22,
     "metadata": {},
     "output_type": "execute_result"
    }
   ],
   "source": [
    "# Train Random Forest model\n",
    "\n",
    "rf_model = RandomForestClassifier()\n",
    "rf_model.fit(X_train, y_train)"
   ]
  },
  {
   "cell_type": "code",
   "execution_count": 17,
   "metadata": {},
   "outputs": [
    {
     "data": {
      "text/plain": [
       "XGBClassifier(base_score=None, booster=None, callbacks=None,\n",
       "              colsample_bylevel=None, colsample_bynode=None,\n",
       "              colsample_bytree=None, device=None, early_stopping_rounds=None,\n",
       "              enable_categorical=False, eval_metric=None, feature_types=None,\n",
       "              gamma=None, grow_policy=None, importance_type=None,\n",
       "              interaction_constraints=None, learning_rate=None, max_bin=None,\n",
       "              max_cat_threshold=None, max_cat_to_onehot=None,\n",
       "              max_delta_step=None, max_depth=None, max_leaves=None,\n",
       "              min_child_weight=None, missing=nan, monotone_constraints=None,\n",
       "              multi_strategy=None, n_estimators=None, n_jobs=None,\n",
       "              num_parallel_tree=None, random_state=None, ...)"
      ]
     },
     "execution_count": 17,
     "metadata": {},
     "output_type": "execute_result"
    }
   ],
   "source": [
    "# Train XGBoost model\n",
    "\n",
    "xgb_model = XGBClassifier()\n",
    "xgb_model.fit(X_train, y_train)"
   ]
  },
  {
   "cell_type": "code",
   "execution_count": 23,
   "metadata": {},
   "outputs": [],
   "source": [
    "# Evaluate models\n",
    "\n",
    "def evaluate_model(model, X_test, y_test):\n",
    "    y_pred = model.predict(X_test)\n",
    "    accuracy = accuracy_score(y_test, y_pred)\n",
    "    precision = precision_score(y_test, y_pred)\n",
    "    recall = recall_score(y_test, y_pred)\n",
    "    f1 = f1_score(y_test, y_pred)\n",
    "    return accuracy, precision, recall, f1\n",
    "\n",
    "rf_accuracy, rf_precision, rf_recall, rf_f1 = evaluate_model(rf_model, X_test, y_test)\n",
    "xgb_accuracy, xgb_precision, xgb_recall, xgb_f1 = evaluate_model(xgb_model, X_test, y_test)"
   ]
  },
  {
   "cell_type": "code",
   "execution_count": 27,
   "metadata": {},
   "outputs": [
    {
     "name": "stdout",
     "output_type": "stream",
     "text": [
      "Accuracy: 0.8578354138892256\n",
      "Precision: 0.7145049884881044\n",
      "Recall: 0.5375288683602771\n",
      "F1-score: 0.6135090609555189\n"
     ]
    }
   ],
   "source": [
    "# Random Forest model performance\n",
    "\n",
    "print(\"Accuracy:\", rf_accuracy)\n",
    "print(\"Precision:\", rf_precision)\n",
    "print(\"Recall:\", rf_recall)\n",
    "print(\"F1-score:\", rf_f1)"
   ]
  },
  {
   "cell_type": "code",
   "execution_count": 26,
   "metadata": {},
   "outputs": [
    {
     "name": "stdout",
     "output_type": "stream",
     "text": [
      "Accuracy: 0.8567446370136953\n",
      "Precision: 0.7022058823529411\n",
      "Recall: 0.5513856812933026\n",
      "F1-score: 0.6177231565329884\n"
     ]
    }
   ],
   "source": [
    "# XGBoost model performance\n",
    "\n",
    "print(\"Accuracy:\", xgb_accuracy)\n",
    "print(\"Precision:\", xgb_precision)\n",
    "print(\"Recall:\", xgb_recall)\n",
    "print(\"F1-score:\", xgb_f1)"
   ]
  },
  {
   "cell_type": "code",
   "execution_count": 28,
   "metadata": {},
   "outputs": [],
   "source": [
    "# Saving best model\n",
    "\n",
    "best_model = rf_model if rf_accuracy > xgb_accuracy else xgb_model\n",
    "with open('best_model.pkl', 'wb') as f:\n",
    "    pickle.dump(best_model, f)"
   ]
  },
  {
   "cell_type": "markdown",
   "metadata": {},
   "source": [
    "Transform best model into OOP format"
   ]
  },
  {
   "cell_type": "code",
   "execution_count": 29,
   "metadata": {},
   "outputs": [],
   "source": [
    "class ChurnClassifier:\n",
    "    def __init__(self, model):\n",
    "        self.model = model\n",
    "    \n",
    "    def train(self, X_train, y_train):\n",
    "        self.model.fit(X_train, y_train)\n",
    "    \n",
    "    def predict(self, X_test):\n",
    "        return self.model.predict(X_test)\n",
    "    \n",
    "    def evaluate(self, X_test, y_test):\n",
    "        y_pred = self.predict(X_test)\n",
    "        accuracy = accuracy_score(y_test, y_pred)\n",
    "        print(\"Accuracy:\", accuracy)\n",
    "        return accuracy"
   ]
  },
  {
   "cell_type": "code",
   "execution_count": 30,
   "metadata": {},
   "outputs": [],
   "source": [
    "# Train Random Forest model\n",
    "\n",
    "rf_model = RandomForestClassifier(n_estimators=100, random_state=42)\n",
    "\n",
    "rf_classifier = ChurnClassifier(rf_model)\n",
    "rf_classifier.train(X_train, y_train)"
   ]
  },
  {
   "cell_type": "code",
   "execution_count": 31,
   "metadata": {},
   "outputs": [
    {
     "name": "stdout",
     "output_type": "stream",
     "text": [
      "Accuracy: 0.8537147012483335\n"
     ]
    }
   ],
   "source": [
    "# Evaluate Random Forest model\n",
    "\n",
    "rf_accuracy = rf_classifier.evaluate(X_test, y_test)"
   ]
  },
  {
   "cell_type": "code",
   "execution_count": 32,
   "metadata": {},
   "outputs": [],
   "source": [
    "# Train the model\n",
    "\n",
    "xgb_model = XGBClassifier(random_state=42)\n",
    "\n",
    "xgb_classifier = ChurnClassifier(xgb_model)\n",
    "xgb_classifier.train(X_train, y_train)"
   ]
  },
  {
   "cell_type": "code",
   "execution_count": 33,
   "metadata": {},
   "outputs": [
    {
     "name": "stdout",
     "output_type": "stream",
     "text": [
      "Accuracy: 0.8567446370136953\n"
     ]
    }
   ],
   "source": [
    "# Evaluate XGBoost model\n",
    "\n",
    "xgb_accuracy = xgb_classifier.evaluate(X_test, y_test)"
   ]
  },
  {
   "cell_type": "code",
   "execution_count": 34,
   "metadata": {},
   "outputs": [
    {
     "name": "stdout",
     "output_type": "stream",
     "text": [
      "Best model: XGBClassifier(base_score=None, booster=None, callbacks=None,\n",
      "              colsample_bylevel=None, colsample_bynode=None,\n",
      "              colsample_bytree=None, device=None, early_stopping_rounds=None,\n",
      "              enable_categorical=False, eval_metric=None, feature_types=None,\n",
      "              gamma=None, grow_policy=None, importance_type=None,\n",
      "              interaction_constraints=None, learning_rate=None, max_bin=None,\n",
      "              max_cat_threshold=None, max_cat_to_onehot=None,\n",
      "              max_delta_step=None, max_depth=None, max_leaves=None,\n",
      "              min_child_weight=None, missing=nan, monotone_constraints=None,\n",
      "              multi_strategy=None, n_estimators=None, n_jobs=None,\n",
      "              num_parallel_tree=None, random_state=42, ...)\n"
     ]
    }
   ],
   "source": [
    "# Choosing best model based on accuracy\n",
    "\n",
    "best_model = rf_classifier if rf_accuracy > xgb_accuracy else xgb_classifier\n",
    "print(\"Best model:\", best_model.model)"
   ]
  },
  {
   "cell_type": "markdown",
   "metadata": {},
   "source": [
    "Prediction code"
   ]
  },
  {
   "cell_type": "code",
   "execution_count": 36,
   "metadata": {},
   "outputs": [],
   "source": [
    "with open(\"best_model.pkl\", \"rb\") as f:\n",
    "    model = pickle.load(f)"
   ]
  },
  {
   "cell_type": "code",
   "execution_count": 44,
   "metadata": {},
   "outputs": [],
   "source": [
    "# Make predictions\n",
    "\n",
    "def predict_churn(data):\n",
    "    predictions = model.predict(data)\n",
    "    return predictions"
   ]
  },
  {
   "cell_type": "code",
   "execution_count": 47,
   "metadata": {},
   "outputs": [
    {
     "name": "stdout",
     "output_type": "stream",
     "text": [
      "<function predict_churn at 0x000001EC87525EE0>\n"
     ]
    }
   ],
   "source": [
    "print(predict_churn)"
   ]
  }
 ],
 "metadata": {
  "kernelspec": {
   "display_name": "base",
   "language": "python",
   "name": "python3"
  },
  "language_info": {
   "codemirror_mode": {
    "name": "ipython",
    "version": 3
   },
   "file_extension": ".py",
   "mimetype": "text/x-python",
   "name": "python",
   "nbconvert_exporter": "python",
   "pygments_lexer": "ipython3",
   "version": "3.9.12"
  }
 },
 "nbformat": 4,
 "nbformat_minor": 2
}
